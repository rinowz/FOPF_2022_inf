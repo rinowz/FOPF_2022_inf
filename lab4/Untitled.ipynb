{
 "cells": [
  {
   "cell_type": "code",
   "execution_count": 4,
   "id": "502d2ef9",
   "metadata": {},
   "outputs": [
    {
     "name": "stdout",
     "output_type": "stream",
     "text": [
      "43\n",
      "43\n"
     ]
    }
   ],
   "source": [
    "import numpy as np\n",
    "a=np.array([3,4,5])\n",
    "b=np.array([1,0,8])\n",
    "C=np.dot(a,b)\n",
    "print(C)\n",
    "D=np.inner(a,b)\n",
    "print(D)"
   ]
  },
  {
   "cell_type": "code",
   "execution_count": 19,
   "id": "0748ee60",
   "metadata": {},
   "outputs": [
    {
     "name": "stdout",
     "output_type": "stream",
     "text": [
      "[[44 44]\n",
      " [41 42]\n",
      " [89 90]]\n",
      "[[44 44]\n",
      " [41 42]\n",
      " [89 90]]\n"
     ]
    }
   ],
   "source": [
    "import numpy as np\n",
    "a=np.array([[2,3,4], [1,2,4],[0,4,9]])\n",
    "b=np.array([[1,2],[2,0],[9,10]])\n",
    "c=np.dot(a,b)\n",
    "print(c)\n",
    "D=np.matmul(a,b)\n",
    "print(D)"
   ]
  },
  {
   "cell_type": "code",
   "execution_count": 20,
   "id": "0c6957c8",
   "metadata": {},
   "outputs": [
    {
     "name": "stdout",
     "output_type": "stream",
     "text": [
      "12.083045973594572\n"
     ]
    }
   ],
   "source": [
    "import numpy as np\n",
    "a=np.array([[2,4,5],[4,6,7]])\n",
    "D=np.linalg.norm(a)\n",
    "print(D)\n"
   ]
  },
  {
   "cell_type": "code",
   "execution_count": 21,
   "id": "1b602d6f",
   "metadata": {},
   "outputs": [
    {
     "name": "stdout",
     "output_type": "stream",
     "text": [
      "0.7542698966040451\n"
     ]
    }
   ],
   "source": [
    "import numpy as np\n",
    "a=np.array([3,4,5])\n",
    "b=np.array([1,0,8])\n",
    "C=np.dot(a,b)\n",
    "D=np.linalg.norm(a)\n",
    "V=np.linalg.norm(b)\n",
    "K=D*V\n",
    "cosA=C/K\n",
    "print(cosA)"
   ]
  },
  {
   "cell_type": "code",
   "execution_count": 46,
   "id": "8e8ba5bd",
   "metadata": {},
   "outputs": [
    {
     "name": "stdout",
     "output_type": "stream",
     "text": [
      "[[ 0 -1]\n",
      " [10  4]]\n",
      "10.000000000000002\n",
      "10.0\n",
      "[[ 0 10]\n",
      " [-1  4]]\n",
      "10.000000000000002\n",
      "10.0\n",
      "0.0\n",
      "[[ 9  5]\n",
      " [ 1 12]]\n",
      "103.00000000000001\n",
      "0.0\n",
      "0.0\n",
      "-50.000000000000014\n"
     ]
    }
   ],
   "source": [
    "import numpy as np\n",
    "A = np.matrix('0 -1; 10 4')\n",
    "print(A)\n",
    "d = np.linalg.det(A)\n",
    "print(d)\n",
    "j=np.around(d)\n",
    "print(j)\n",
    "b=A.T\n",
    "print(b)\n",
    "g=np.linalg.det(b)\n",
    "print(g)\n",
    "n=np.around(g)\n",
    "print(n)\n",
    "A[[0,0]]=0\n",
    "D=np.linalg.det(A)\n",
    "print(D)\n",
    "B=np.matrix('1 12;9 5')\n",
    "B[[1,0]]=B[[0,1]]\n",
    "print(B)\n",
    "N=np.linalg.det(B)\n",
    "print(N)\n",
    "O=np.matrix('1 3;1 3')\n",
    "print(np.linalg.det(O))\n",
    "O[0]=O[0]*2\n",
    "print(np.linalg.det(O))\n",
    "P = np.matrix('0 5; 10 14')\n",
    "P[1]=P[1]+P[0]*3\n",
    "print(np.linalg.det(P))"
   ]
  },
  {
   "cell_type": "code",
   "execution_count": null,
   "id": "16db6603",
   "metadata": {},
   "outputs": [],
   "source": []
  }
 ],
 "metadata": {
  "kernelspec": {
   "display_name": "Python 3 (ipykernel)",
   "language": "python",
   "name": "python3"
  },
  "language_info": {
   "codemirror_mode": {
    "name": "ipython",
    "version": 3
   },
   "file_extension": ".py",
   "mimetype": "text/x-python",
   "name": "python",
   "nbconvert_exporter": "python",
   "pygments_lexer": "ipython3",
   "version": "3.8.11"
  }
 },
 "nbformat": 4,
 "nbformat_minor": 5
}
